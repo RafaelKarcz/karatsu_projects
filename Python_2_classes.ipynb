{
  "nbformat": 4,
  "nbformat_minor": 0,
  "metadata": {
    "colab": {
      "provenance": [],
      "authorship_tag": "ABX9TyPwE/NI3FoUm2cEhrolAI36",
      "include_colab_link": true
    },
    "kernelspec": {
      "name": "python3",
      "display_name": "Python 3"
    },
    "language_info": {
      "name": "python"
    }
  },
  "cells": [
    {
      "cell_type": "markdown",
      "metadata": {
        "id": "view-in-github",
        "colab_type": "text"
      },
      "source": [
        "<a href=\"https://colab.research.google.com/github/RafaelKarcz/karatsu_projects/blob/main/Python_2_classes.ipynb\" target=\"_parent\"><img src=\"https://colab.research.google.com/assets/colab-badge.svg\" alt=\"Open In Colab\"/></a>"
      ]
    },
    {
      "cell_type": "code",
      "execution_count": 2,
      "metadata": {
        "colab": {
          "base_uri": "https://localhost:8080/"
        },
        "id": "aQOUYpTT6tmq",
        "outputId": "5442be48-763d-491f-fb24-69e8f386c9b6"
      },
      "outputs": [
        {
          "output_type": "stream",
          "name": "stdout",
          "text": [
            "240 18\n"
          ]
        }
      ],
      "source": [
        "class Vehicle:\n",
        "    def __init__(self, max_speed, mileage):\n",
        "        self.max_speed = max_speed\n",
        "        self.mileage = mileage\n",
        "\n",
        "modelX = Vehicle(240, 18)\n",
        "print(modelX.max_speed, modelX.mileage)"
      ]
    },
    {
      "cell_type": "code",
      "source": [
        "class rectangle:\n",
        "    # define constructor with attributes: length and width \n",
        "    def __init__(self, length , width):\n",
        "        self.length = length\n",
        "        self.width = width\n",
        "        \n",
        "    # Create Perimeter method\n",
        "    def Perimeter(self):\n",
        "        return 2*(self.length + self.width)\n",
        "    \n",
        "    # Create area method\n",
        "    def Area(self):\n",
        "        return self.length*self.width   \n",
        "    \n",
        "    # create display method\n",
        "    def display(self):\n",
        "        print(\"The length of rectangle is: \", self.length)\n",
        "        print(\"The width of rectangle is: \", self.width)\n",
        "        print(\"The perimeter of rectangle is: \", self.Perimeter())\n",
        "        print(\"The area of rectangle is: \", self.Area())\n",
        "\n",
        "mrct = rectangle(7 , 5)\n",
        "mrct.display()"
      ],
      "metadata": {
        "colab": {
          "base_uri": "https://localhost:8080/"
        },
        "id": "xzXfnLzI7KL0",
        "outputId": "a2c5afd6-2349-4b9a-b9d2-519e4e23ef49"
      },
      "execution_count": 1,
      "outputs": [
        {
          "output_type": "stream",
          "name": "stdout",
          "text": [
            "The length of rectangle is:  7\n",
            "The width of rectangle is:  5\n",
            "The perimeter of rectangle is:  24\n",
            "The area of rectangle is:  35\n"
          ]
        }
      ]
    },
    {
      "cell_type": "code",
      "source": [
        "class BankAccount:\n",
        "    # Constuctor with parameters: accountNumber, name, and balance \n",
        "    def __init__(self,accountNumber, name, balance):\n",
        "        self.accountNumber = accountNumber\n",
        "        self.name = name\n",
        "        self.balance = balance\n",
        "        \n",
        "    # Deposit() method\n",
        "    def Deposit(self , d ):\n",
        "        self.balance = self.balance + d\n",
        "    \n",
        "    # Withdrawal method\n",
        "    def Withdrawal(self , w):\n",
        "        if(self.balance < w):\n",
        "            print(\"impossible operation! Insufficient balance !\")\n",
        "        else:\n",
        "            self.balance = self.balance - w\n",
        "    # create bankFees() method\n",
        "    def bankFees(self):\n",
        "        self.balance = (95/100)*self.balance\n",
        "        \n",
        "    # create display() method\n",
        "    def display(self):\n",
        "        print(\"Account Number : \" , self.accountNumber)\n",
        "        print(\"Account Name : \" , self.name)\n",
        "        print(\"Account Balance : \" , self.balance , \" EUR\")\n",
        "        \n",
        "# Testing the code:\n",
        "newacc = BankAccount(2178514584, \"Rafael Karcz\" , 1500)\n",
        "# Withdrawal test\n",
        "newacc.Withdrawal(300)\n",
        "# Deposit test\n",
        "newacc.Deposit(200)\n",
        "# Display account informations\n",
        "newacc.display()"
      ],
      "metadata": {
        "colab": {
          "base_uri": "https://localhost:8080/"
        },
        "id": "pzNGfOc47u5r",
        "outputId": "50b078f1-046c-40ea-8e7b-d85b6c1593dd"
      },
      "execution_count": 6,
      "outputs": [
        {
          "output_type": "stream",
          "name": "stdout",
          "text": [
            "Account Number :  2178514584\n",
            "Account Name :  Rafael Karcz\n",
            "Account Balance :  1400  EUR\n"
          ]
        }
      ]
    }
  ]
}