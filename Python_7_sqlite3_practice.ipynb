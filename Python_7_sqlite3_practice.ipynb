{
  "nbformat": 4,
  "nbformat_minor": 0,
  "metadata": {
    "colab": {
      "provenance": [],
      "authorship_tag": "ABX9TyNrHLn45pG702WhIY9HnDBV",
      "include_colab_link": true
    },
    "kernelspec": {
      "name": "python3",
      "display_name": "Python 3"
    },
    "language_info": {
      "name": "python"
    }
  },
  "cells": [
    {
      "cell_type": "markdown",
      "metadata": {
        "id": "view-in-github",
        "colab_type": "text"
      },
      "source": [
        "<a href=\"https://colab.research.google.com/github/RafaelKarcz/karatsu_projects/blob/main/Python_7_sqlite3_practice.ipynb\" target=\"_parent\"><img src=\"https://colab.research.google.com/assets/colab-badge.svg\" alt=\"Open In Colab\"/></a>"
      ]
    },
    {
      "cell_type": "code",
      "source": [
        "import sqlite3\n",
        "\n",
        "database = sqlite3.connect(\"test_sample.db\")\n",
        "\n",
        "# create a table\n",
        "database.execute(\"create table person(fname, lname)\")"
      ],
      "metadata": {
        "colab": {
          "base_uri": "https://localhost:8080/"
        },
        "id": "sfVTsy1MZCiE",
        "outputId": "9e16f7b9-c29c-4438-af32-1bbf9268ec43"
      },
      "execution_count": 13,
      "outputs": [
        {
          "output_type": "execute_result",
          "data": {
            "text/plain": [
              "<sqlite3.Cursor at 0x7f9a408edac0>"
            ]
          },
          "metadata": {},
          "execution_count": 13
        }
      ]
    },
    {
      "cell_type": "code",
      "execution_count": 14,
      "metadata": {
        "colab": {
          "base_uri": "https://localhost:8080/"
        },
        "id": "UmgN6paZX3sE",
        "outputId": "a756d597-f587-4a25-f30d-9b0da8db24a0"
      },
      "outputs": [
        {
          "output_type": "execute_result",
          "data": {
            "text/plain": [
              "<sqlite3.Cursor at 0x7f9a408ee7c0>"
            ]
          },
          "metadata": {},
          "execution_count": 14
        }
      ],
      "source": [
        "import sqlite3\n",
        "\n",
        "memorydatabase = sqlite3.connect(\":memory:\")\n",
        "\n",
        "memorydatabase.execute(\"create table person(fname, lname)\")"
      ]
    },
    {
      "cell_type": "code",
      "source": [
        "persons = [('Rafael', 'Karcz'), ('Nima', 'Hendrick'), ('Stephanie', 'Onodera')]\n",
        "database.executemany(\"insert into person(fname, lname) values (?, ?)\", persons)"
      ],
      "metadata": {
        "colab": {
          "base_uri": "https://localhost:8080/"
        },
        "id": "qfuVRlR6ZI4n",
        "outputId": "fa20f35e-8401-4a2b-a1e2-30331bb7c5f8"
      },
      "execution_count": 15,
      "outputs": [
        {
          "output_type": "execute_result",
          "data": {
            "text/plain": [
              "<sqlite3.Cursor at 0x7f9a40d9c4c0>"
            ]
          },
          "metadata": {},
          "execution_count": 15
        }
      ]
    },
    {
      "cell_type": "code",
      "source": [
        "# print the table contents\n",
        "for row in database.execute(\"select rowid, fname, lname from person\"):\n",
        "    print(row)"
      ],
      "metadata": {
        "colab": {
          "base_uri": "https://localhost:8080/"
        },
        "id": "MbcAzHgFZXFc",
        "outputId": "cfc158f0-ff6c-44aa-c7c7-ddbc16b37818"
      },
      "execution_count": 16,
      "outputs": [
        {
          "output_type": "stream",
          "name": "stdout",
          "text": [
            "(1, 'Rafael', 'Karcz')\n",
            "(2, 'Nima', 'Hendrick')\n",
            "(3, 'Stephanie', 'Onodera')\n"
          ]
        }
      ]
    },
    {
      "cell_type": "code",
      "source": [
        "print(\"I just deleted\", database.execute(\"delete from person where rowid=2\").rowcount, \"rows\")"
      ],
      "metadata": {
        "colab": {
          "base_uri": "https://localhost:8080/"
        },
        "id": "fV4SK712Zdqs",
        "outputId": "13c9502f-5ece-4116-c724-8885f0c698e2"
      },
      "execution_count": 17,
      "outputs": [
        {
          "output_type": "stream",
          "name": "stdout",
          "text": [
            "I just deleted 1 rows\n"
          ]
        }
      ]
    },
    {
      "cell_type": "code",
      "source": [
        "for row in database.execute(\"select rowid, fname, lname from person\"):\n",
        "    print(row)"
      ],
      "metadata": {
        "colab": {
          "base_uri": "https://localhost:8080/"
        },
        "id": "lhnmEjo4ZjhS",
        "outputId": "eff428cd-cfb6-4d07-f4ad-baec7135b343"
      },
      "execution_count": 18,
      "outputs": [
        {
          "output_type": "stream",
          "name": "stdout",
          "text": [
            "(1, 'Rafael', 'Karcz')\n",
            "(3, 'Stephanie', 'Onodera')\n"
          ]
        }
      ]
    },
    {
      "cell_type": "code",
      "source": [
        "import sqlite3\n",
        "\n",
        "# connect to the memory database\n",
        "conn = sqlite3.connect(\"business.db\")\n",
        "\n",
        "# create a table\n",
        "conn.execute(\"create table if not exists Customers(Name, Address, Country, City)\")"
      ],
      "metadata": {
        "colab": {
          "base_uri": "https://localhost:8080/"
        },
        "id": "-uzTq1rjaDPR",
        "outputId": "6936be4c-61aa-47c9-d117-7f1f51da2a0f"
      },
      "execution_count": 19,
      "outputs": [
        {
          "output_type": "execute_result",
          "data": {
            "text/plain": [
              "<sqlite3.Cursor at 0x7f9a383ae740>"
            ]
          },
          "metadata": {},
          "execution_count": 19
        }
      ]
    },
    {
      "cell_type": "code",
      "source": [
        "Cust = [('Rafael', 'Shiki shi','Japan','Tokyo')]\n",
        "conn.executemany(\"insert into Customers(Name, Address, Country, City) values (?, ?, ?, ?)\", Cust)\n",
        "# print the table contents\n",
        "for row in conn.execute(\"select rowid, Name, Address, Country, City from Customers\"):\n",
        "    print(row)"
      ],
      "metadata": {
        "colab": {
          "base_uri": "https://localhost:8080/"
        },
        "id": "qY5Zh0gDaHYz",
        "outputId": "c031a7e4-d4b8-42e8-a0e0-7a540cc6dade"
      },
      "execution_count": 21,
      "outputs": [
        {
          "output_type": "stream",
          "name": "stdout",
          "text": [
            "(1, 'Rafael', 'Shiki shi', 'Japan', 'Tokyo')\n"
          ]
        }
      ]
    }
  ]
}