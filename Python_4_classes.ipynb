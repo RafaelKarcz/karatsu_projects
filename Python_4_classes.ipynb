{
  "nbformat": 4,
  "nbformat_minor": 0,
  "metadata": {
    "colab": {
      "provenance": [],
      "authorship_tag": "ABX9TyMeZqQvPsXLf7AuREQxjJFo",
      "include_colab_link": true
    },
    "kernelspec": {
      "name": "python3",
      "display_name": "Python 3"
    },
    "language_info": {
      "name": "python"
    }
  },
  "cells": [
    {
      "cell_type": "markdown",
      "metadata": {
        "id": "view-in-github",
        "colab_type": "text"
      },
      "source": [
        "<a href=\"https://colab.research.google.com/github/RafaelKarcz/karatsu_projects/blob/main/Python_4_classes.ipynb\" target=\"_parent\"><img src=\"https://colab.research.google.com/assets/colab-badge.svg\" alt=\"Open In Colab\"/></a>"
      ]
    },
    {
      "cell_type": "code",
      "execution_count": 2,
      "metadata": {
        "colab": {
          "base_uri": "https://localhost:8080/"
        },
        "id": "xZOfZ8gDEBjJ",
        "outputId": "83a30261-7d1d-4c3c-8035-ff959dabdf3e"
      },
      "outputs": [
        {
          "output_type": "stream",
          "name": "stdout",
          "text": [
            "Inside Person class\n",
            "Name:  JEFF Age:  33\n",
            "Inside Company class\n",
            "Name:  Meta Location:  San Francisco\n",
            "Inside Employee class\n",
            "Salary:  12000 Skill:  Machine Learning\n"
          ]
        }
      ],
      "source": [
        "class Person:\n",
        "  def person_info(self, name, age):\n",
        "    print('Inside Person class')\n",
        "    print('Name: ', name, 'Age: ', age)\n",
        "\n",
        "class Company:\n",
        "  def company_info(self, company_name, location):\n",
        "    print('Inside Company class')\n",
        "    print('Name: ', company_name, 'Location: ', location)\n",
        "\n",
        "class Employee(Person, Company):\n",
        "  def Employee_info(self, salary, skill):\n",
        "    print('Inside Employee class')\n",
        "    print('Salary: ', salary, 'Skill: ', skill)\n",
        "\n",
        "emp = Employee()\n",
        "\n",
        "emp.person_info('JEFF', 33)\n",
        "emp.company_info('Meta', 'San Francisco')\n",
        "emp.Employee_info(12000, 'Machine Learning')"
      ]
    },
    {
      "cell_type": "code",
      "source": [
        "class Vehicle:\n",
        "  def vehicle_info(self):\n",
        "    print('Inside vehicle class')\n",
        "\n",
        "class Car(Vehicle):\n",
        "  def car_info(self):\n",
        "    print('Inside Car class')\n",
        "\n",
        "class Sports_Car(Car):\n",
        "  def sports_car_info(self):\n",
        "    print('Inside SportsCar class')\n",
        "\n",
        "s_car = Sports_Car()\n",
        "\n",
        "s_car.vehicle_info()\n",
        "s_car.car_info()\n",
        "s_car.sports_car_info()"
      ],
      "metadata": {
        "colab": {
          "base_uri": "https://localhost:8080/"
        },
        "id": "rIivSYTcEU0p",
        "outputId": "f8eaa031-1a4a-49aa-e520-85c1a2ed0a60"
      },
      "execution_count": 3,
      "outputs": [
        {
          "output_type": "stream",
          "name": "stdout",
          "text": [
            "Inside vehicle class\n",
            "Inside Car class\n",
            "Inside SportsCar class\n"
          ]
        }
      ]
    },
    {
      "cell_type": "code",
      "source": [
        "class Vehicle:\n",
        "  def info(self):\n",
        "    print('Inside vehicle class')\n",
        "\n",
        "class Car(Vehicle):\n",
        "  def car_info(self, name):\n",
        "    print('Inside Car class')\n",
        "\n",
        "class Truck(Vehicle):\n",
        "  def truck_info(self, name):\n",
        "    print('Truck name is: ', name)\n",
        "\n",
        "obj1 = Car()\n",
        "\n",
        "obj1.info()\n",
        "obj1.car_info('BMW')\n",
        "\n",
        "obj2 = Truck()\n",
        "obj2.info()\n",
        "obj2.truck_info('PORSCHE??')"
      ],
      "metadata": {
        "colab": {
          "base_uri": "https://localhost:8080/"
        },
        "id": "LSqp18rTEVKn",
        "outputId": "c97edbdb-23cb-48dd-f636-2fd61f54a4c4"
      },
      "execution_count": 4,
      "outputs": [
        {
          "output_type": "stream",
          "name": "stdout",
          "text": [
            "Inside vehicle class\n",
            "Inside Car class\n",
            "Inside vehicle class\n",
            "Truck name is:  PORSCHE??\n"
          ]
        }
      ]
    },
    {
      "cell_type": "code",
      "source": [
        "class Vehicle:\n",
        "  def max_speed(self):\n",
        "    print('max speed is 100 km/h')\n",
        "\n",
        "class Car(Vehicle):\n",
        "  def max_speed(self):\n",
        "    print('max speed is 200 km/h')\n",
        "\n",
        "car = Car()\n",
        "car.max_speed()"
      ],
      "metadata": {
        "colab": {
          "base_uri": "https://localhost:8080/"
        },
        "id": "DHUAfNutEVSj",
        "outputId": "7f1bb255-4c00-47ed-dcfa-db804a8543bf"
      },
      "execution_count": 5,
      "outputs": [
        {
          "output_type": "stream",
          "name": "stdout",
          "text": [
            "max speed is 200 km/h\n"
          ]
        }
      ]
    },
    {
      "cell_type": "code",
      "source": [
        "class Vehicle:\n",
        "  def __init__(self, name, max_speed, mileage):\n",
        "    self.name = name\n",
        "    self.max_speed = max_speed\n",
        "    self.mileage = mileage\n",
        "\n",
        "class Bus(Vehicle):\n",
        "  pass\n",
        "\n",
        "bus = Bus(\"PORSCHE BUS\", 300, 10000)\n",
        "print(\"Vehicle name: \", bus.name, \"Maximum speed: \", bus.max_speed, \"Mileage: \", bus.mileage)"
      ],
      "metadata": {
        "colab": {
          "base_uri": "https://localhost:8080/"
        },
        "id": "QCvZFXmXEVa8",
        "outputId": "40840226-26ab-4956-c102-b18239df81d9"
      },
      "execution_count": 6,
      "outputs": [
        {
          "output_type": "stream",
          "name": "stdout",
          "text": [
            "Vehicle name:  PORSCHE BUS Maximum speed:  300 Mileage:  10000\n"
          ]
        }
      ]
    },
    {
      "cell_type": "code",
      "source": [
        "class Vehicle:\n",
        "  def __init__(self, name, max_speed, mileage):\n",
        "    self.name = name\n",
        "    self.max_speed = max_speed\n",
        "    self.mileage = mileage\n",
        "\n",
        "  def seating_capacity(self, capacity):\n",
        "    return f\"The seating capacity of a {self.name} is {capacity} passengers\"\n",
        "\n",
        "class Bus(Vehicle):\n",
        "    def seating_capacity(self, capacity = 50):\n",
        "        return super().seating_capacity(capacity=50)\n",
        "\n",
        "bus = Bus(\"PORSCHE BUS\", 300, 10000)\n",
        "print(bus.seating_capacity())"
      ],
      "metadata": {
        "colab": {
          "base_uri": "https://localhost:8080/"
        },
        "id": "9xdgkt5jEVtD",
        "outputId": "d629d3a7-77f3-4a34-bc66-137f66ee2f12"
      },
      "execution_count": 7,
      "outputs": [
        {
          "output_type": "stream",
          "name": "stdout",
          "text": [
            "The seating capacity of a PORSCHE BUS is 50 passengers\n"
          ]
        }
      ]
    },
    {
      "cell_type": "code",
      "source": [
        "class Clothing:\n",
        "\n",
        "    def __init__(self, color, size, style, price):\n",
        "        self.color = color\n",
        "        self.size = size\n",
        "        self.style = style\n",
        "        self.price = price\n",
        "        \n",
        "    def change_price(self, price):\n",
        "        self.price = price\n",
        "        \n",
        "    def calculate_discount(self, discount):\n",
        "        return self.price * (1 - discount)\n",
        "\n",
        "    def calculate_shipping(self, weight, rate):\n",
        "        return weight * rate\n",
        "        \n",
        "class Shirt(Clothing):\n",
        "    \n",
        "    def __init__(self, color, size, style, price, long_or_short):\n",
        "        \n",
        "        Clothing.__init__(self, color, size, style, price)\n",
        "        self.long_or_short = long_or_short\n",
        "    \n",
        "    def double_price(self):\n",
        "        self.price = 2*self.price\n",
        "    \n",
        "class Pants(Clothing):\n",
        "\n",
        "    def __init__(self, color, size, style, price, waist):\n",
        "        \n",
        "        Clothing.__init__(self, color, size, style, price)\n",
        "        self.waist = waist\n",
        "        \n",
        "    def calculate_discount(self, discount):\n",
        "        return self.price * (1 - discount / 2)\n",
        "\n",
        "class Blouse(Clothing):\n",
        "    def __init__(self, color, size, style, price, country_of_origin):\n",
        "        Clothing.__init__(self, color, size, style, price)\n",
        "        self.country_of_origin = country_of_origin\n",
        "\n",
        "    def triple_price(self):\n",
        "        return 3 * self.price"
      ],
      "metadata": {
        "id": "3WuPvkurEV37"
      },
      "execution_count": 8,
      "outputs": []
    }
  ]
}