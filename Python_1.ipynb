{
  "nbformat": 4,
  "nbformat_minor": 0,
  "metadata": {
    "colab": {
      "provenance": [],
      "authorship_tag": "ABX9TyPy5vFtTQuJk1Co5UV1aXMX",
      "include_colab_link": true
    },
    "kernelspec": {
      "name": "python3",
      "display_name": "Python 3"
    },
    "language_info": {
      "name": "python"
    }
  },
  "cells": [
    {
      "cell_type": "markdown",
      "metadata": {
        "id": "view-in-github",
        "colab_type": "text"
      },
      "source": [
        "<a href=\"https://colab.research.google.com/github/RafaelKarcz/karatsu_projects/blob/main/Python_1.ipynb\" target=\"_parent\"><img src=\"https://colab.research.google.com/assets/colab-badge.svg\" alt=\"Open In Colab\"/></a>"
      ]
    },
    {
      "cell_type": "code",
      "source": [
        "def readposint():\n",
        "    while True:\n",
        "        try:\n",
        "            a = int(input(\"Please enter a positive integer: \"))\n",
        "            if a <= 0:\n",
        "                print(\"Non-positive integers are not allowed\")\n",
        "            else:\n",
        "                return a\n",
        "        except ValueError as e:\n",
        "            print(\"Invalid input. Please enter a positive integer.\")\n",
        "\n",
        "\n",
        "print(\"The positive integer you entered is\", readposint())"
      ],
      "metadata": {
        "colab": {
          "base_uri": "https://localhost:8080/"
        },
        "id": "FyBeOIC3y1wv",
        "outputId": "c90f235b-fafc-462b-b04d-280956f0260c"
      },
      "execution_count": 4,
      "outputs": [
        {
          "output_type": "stream",
          "name": "stdout",
          "text": [
            "Please enter a positive integer: 1\n",
            "The positive integer you entered is 1\n"
          ]
        }
      ]
    },
    {
      "cell_type": "code",
      "source": [
        "print(\"Hello and welcome to this simple calculator\\n\")\n",
        "\n",
        "print(\"Please choose the operation you want to perform:\")\n",
        "print(\"1. Addition\")\n",
        "print(\"2. Subtraction\")\n",
        "print(\"3. Multiplication\")\n",
        "print(\"4. Division\")\n",
        "print(\"5. Quit Calculator\")\n",
        "\n",
        "def add(a, b):\n",
        "    # Function for addition\n",
        "    return a + b\n",
        "\n",
        "def sub(a, b):\n",
        "    # Function for subtraction\n",
        "    return a - b\n",
        "\n",
        "def multi(a, b):\n",
        "    # Function for multiplication\n",
        "    return a * b\n",
        "\n",
        "def divi(a, b):\n",
        "    # Function for division\n",
        "    while True:\n",
        "        if b == 0:\n",
        "            print(\"Cannot divide by zero\")\n",
        "            b = float(input(\"Enter the value of B (second number): \"))\n",
        "        else:\n",
        "            return a / b\n",
        "\n",
        "while True:\n",
        "    try:\n",
        "        choice = int(input(\"Enter the choice you want to perform: \"))\n",
        "        if choice == 5:\n",
        "            break\n",
        "        elif choice not in [1, 2, 3, 4]:\n",
        "            print(\"%d is not a valid input. Please enter 1, 2, 3, 4 or 5.\" % choice)\n",
        "        else:\n",
        "            x = float(input(\"Enter the value of A (first number): \"))\n",
        "            y = float(input(\"Enter the value of B (second number): \"))\n",
        "            if choice == 1:\n",
        "                print(\"The result is:\", add(x, y))\n",
        "            elif choice == 2:\n",
        "                print(\"The result is:\", sub(x, y))\n",
        "            elif choice == 3:\n",
        "                print(\"The result is:\", multi(x, y))\n",
        "            else:\n",
        "                print(\"The result is:\", divi(x, y))\n",
        "    except ValueError:\n",
        "        print(\"Not a valid input.\")\n",
        "    except Exception as e:\n",
        "        print(\"Error:\", e)"
      ],
      "metadata": {
        "colab": {
          "base_uri": "https://localhost:8080/"
        },
        "id": "nelNVTFfyhSO",
        "outputId": "27a043ce-4f34-46d5-b937-15d81dab304a"
      },
      "execution_count": 3,
      "outputs": [
        {
          "name": "stdout",
          "output_type": "stream",
          "text": [
            "Hello and welcome to this simple calculator\n",
            "\n",
            "Please choose the operation you want to perform:\n",
            "1. Addition\n",
            "2. Subtraction\n",
            "3. Multiplication\n",
            "4. Division\n",
            "5. Quit Calculator\n",
            "Enter the choice you want to perform: 4\n",
            "Enter the value of A (first number): 3\n",
            "Enter the value of B (second number): 0\n",
            "Cannot divide by zero\n",
            "Enter the value of B (second number): 5\n",
            "The result is: 0.6\n",
            "Enter the choice you want to perform: 5\n"
          ]
        }
      ]
    }
  ]
}