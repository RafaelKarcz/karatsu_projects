{
  "nbformat": 4,
  "nbformat_minor": 0,
  "metadata": {
    "colab": {
      "provenance": [],
      "authorship_tag": "ABX9TyP72bWIR+uLADdGuGxZEvUW",
      "include_colab_link": true
    },
    "kernelspec": {
      "name": "python3",
      "display_name": "Python 3"
    },
    "language_info": {
      "name": "python"
    }
  },
  "cells": [
    {
      "cell_type": "markdown",
      "metadata": {
        "id": "view-in-github",
        "colab_type": "text"
      },
      "source": [
        "<a href=\"https://colab.research.google.com/github/RafaelKarcz/karatsu_projects/blob/main/Python_3_classes.ipynb\" target=\"_parent\"><img src=\"https://colab.research.google.com/assets/colab-badge.svg\" alt=\"Open In Colab\"/></a>"
      ]
    },
    {
      "cell_type": "code",
      "execution_count": 1,
      "metadata": {
        "id": "LvYR-SuG82Yd"
      },
      "outputs": [],
      "source": [
        "class Point:\n",
        "    \"\"\" Create a new Point, at coordinates x, y \"\"\"\n",
        "\n",
        "    def __init__(self, x=0, y=0):\n",
        "        \"\"\" Create a new point at x, y \"\"\"\n",
        "        self.x = x\n",
        "        self.y = y\n",
        "        \n",
        "    def __str__(self):    # string method\n",
        "            return \"({0}, {1})\".format(self.x, self.y)"
      ]
    },
    {
      "cell_type": "code",
      "source": [
        "class Rectangle:\n",
        "    \"\"\" A class to manufacture rectangle objects \"\"\"\n",
        "\n",
        "    def __init__(self, posn, w, h):\n",
        "        \"\"\" Initialize rectangle at posn, with width w, height h \"\"\"\n",
        "        self.corner = posn\n",
        "        self.width = w\n",
        "        self.height = h\n",
        "\n",
        "    def __str__(self):\n",
        "        return  \"({0}, {1}, {2})\".format(self.corner, self.width, self.height)"
      ],
      "metadata": {
        "id": "M7u3AFfV-lZ4"
      },
      "execution_count": 2,
      "outputs": []
    },
    {
      "cell_type": "code",
      "source": [
        "box = Rectangle(Point(0, 0), 100, 200)\n",
        "\n",
        "bomb = Rectangle(Point(100, 80), 5, 10)\n",
        "\n",
        "print(\"box: \", box)\n",
        "print(\"bomb: \", bomb)"
      ],
      "metadata": {
        "colab": {
          "base_uri": "https://localhost:8080/"
        },
        "id": "iDBfLz4v_FlZ",
        "outputId": "bc5311bd-5b36-459f-8ba1-697d43bb76b4"
      },
      "execution_count": 3,
      "outputs": [
        {
          "output_type": "stream",
          "name": "stdout",
          "text": [
            "box:  ((0, 0), 100, 200)\n",
            "bomb:  ((100, 80), 5, 10)\n"
          ]
        }
      ]
    },
    {
      "cell_type": "code",
      "source": [
        "class Fraction:\n",
        "    #__init__ method to initialize the class  \n",
        "    def __init__(self, top, bottom):\n",
        "         self.num = top # numerator is on top\n",
        "         self.den = bottom # denominator is on the bottom\n",
        "    def __str__(self):\n",
        "        return str(self.num) + \"/\" + str(self.den) \n",
        "    def getNum(self):\n",
        "        return self.num\n",
        "    def getDen(self):\n",
        "        return self.den\n",
        "myfraction = Fraction(3, 4)\n",
        "\n",
        "yourfraction = Fraction(3, 5)\n",
        "\n",
        "print(myfraction)\n",
        "print(myfraction.getNum())\n",
        "print(myfraction.getDen())\n",
        "\n",
        "print(yourfraction)\n",
        "print(yourfraction.getNum())\n",
        "print(yourfraction.getDen())"
      ],
      "metadata": {
        "colab": {
          "base_uri": "https://localhost:8080/"
        },
        "id": "KbQAg1lF_IZ3",
        "outputId": "821e6bed-7196-4334-ca1a-eac9f9c22419"
      },
      "execution_count": 7,
      "outputs": [
        {
          "output_type": "stream",
          "name": "stdout",
          "text": [
            "3/4\n",
            "3\n",
            "4\n",
            "3/5\n",
            "3\n",
            "5\n"
          ]
        }
      ]
    },
    {
      "cell_type": "code",
      "source": [
        "p = Point(4, 2)\n",
        "s = Point(4, 2)\n",
        "\n",
        "print(\"== on Points returns\", p == s)  # by default, == does a shallow equality test here\n",
        "\n",
        "a = [2, 3]\n",
        "b = [2, 3]\n",
        "print(\"== on lists returns\",  a == b)  # by default, == does a deep equality test on lists"
      ],
      "metadata": {
        "colab": {
          "base_uri": "https://localhost:8080/"
        },
        "id": "7UIsB-HoAmD6",
        "outputId": "dbf3efea-3bf2-4f6c-cdb7-63e8e5c0e7e7"
      },
      "execution_count": 8,
      "outputs": [
        {
          "output_type": "stream",
          "name": "stdout",
          "text": [
            "== on Points returns False\n",
            "== on lists returns True\n"
          ]
        }
      ]
    },
    {
      "cell_type": "code",
      "source": [
        "import copy\n",
        "p1 = Point(3, 4)\n",
        "\n",
        "p2 = copy.copy(p1)\n",
        "\n",
        "print(p1 is p2)"
      ],
      "metadata": {
        "colab": {
          "base_uri": "https://localhost:8080/"
        },
        "id": "K8w06xysBIZ-",
        "outputId": "78592814-383c-41b2-e966-1f99c3887367"
      },
      "execution_count": 9,
      "outputs": [
        {
          "output_type": "stream",
          "name": "stdout",
          "text": [
            "False\n"
          ]
        }
      ]
    },
    {
      "cell_type": "code",
      "source": [
        "class Rectangle:\n",
        "\n",
        "    def __init__(self, posn, w, h):\n",
        "        self.posn = posn\n",
        "        self.width = w\n",
        "        self.height = h\n",
        "    \n",
        "    def area(self):\n",
        "        return self.width * self.height\n",
        "    \n",
        "r = Rectangle(Point(0, 0), 10, 5)\n",
        "print(r.area() == 50)"
      ],
      "metadata": {
        "colab": {
          "base_uri": "https://localhost:8080/"
        },
        "id": "TWORfelEB4yH",
        "outputId": "aaf898fb-7d5d-48ae-9157-c2b440964cbc"
      },
      "execution_count": 15,
      "outputs": [
        {
          "output_type": "stream",
          "name": "stdout",
          "text": [
            "True\n"
          ]
        }
      ]
    },
    {
      "cell_type": "code",
      "source": [
        "class Person:\n",
        "    def __init__(self, name, affiliation, Class):\n",
        "        self.name = name\n",
        "        self.affiliation = affiliation\n",
        "        self.Class = Class\n",
        "    \n",
        "    def greeting(self):\n",
        "        return \"Nice to meet you. My name is {0}. I am a student at {1}. I love {2}.\".format(self.name, self.affiliation, self.Class)\n",
        "\n",
        "person = Person(\"Rafael\", \"TIU\", \"Python\")\n",
        "print(person.greeting())"
      ],
      "metadata": {
        "colab": {
          "base_uri": "https://localhost:8080/"
        },
        "id": "_o-Fsa5nC-eC",
        "outputId": "89e1bfa0-caec-41d4-809b-ec015d1537e7"
      },
      "execution_count": 17,
      "outputs": [
        {
          "output_type": "stream",
          "name": "stdout",
          "text": [
            "Nice to meet you. My name is Rafael. I am a student at TIU. I love Python.\n"
          ]
        }
      ]
    },
    {
      "cell_type": "code",
      "source": [
        "class calculator():\n",
        "    \n",
        "    def __init__(self, x, y):\n",
        "        self.x = x\n",
        "        self.y = y\n",
        "\n",
        "    def addition(self):\n",
        "        return self.x + self.y\n",
        "\n",
        "    def multiplication(self):\n",
        "        return self.x * self.y\n",
        "\n",
        "    def division(self):\n",
        "        return self.x / self.y\n",
        "\n",
        "    def subtraction(self):\n",
        "        return self.x - self.y"
      ],
      "metadata": {
        "id": "cAe0wD7CDNYk"
      },
      "execution_count": 18,
      "outputs": []
    },
    {
      "cell_type": "code",
      "source": [
        "class rectangle:\n",
        "\n",
        "    def __init__(self, posn, length , width):\n",
        "        self.posn = posn\n",
        "        self.length = length\n",
        "        self.width = width\n",
        "        \n",
        "    def Perimeter(self):\n",
        "        return 2*(self.length + self.width)\n",
        "\n",
        "    def area(self):\n",
        "        return self.length*self.width   \n",
        "\n",
        "r = rectangle(Point(0, 0), 10, 5)\n",
        "\n",
        "print(r.area() == 50)\n",
        "\n",
        "print(r.Perimeter() == 30)"
      ],
      "metadata": {
        "colab": {
          "base_uri": "https://localhost:8080/"
        },
        "id": "y7iwHQ0WDQJU",
        "outputId": "257a6e3d-2e6d-47ae-b81d-a8b9568ac281"
      },
      "execution_count": 21,
      "outputs": [
        {
          "output_type": "stream",
          "name": "stdout",
          "text": [
            "True\n",
            "True\n"
          ]
        }
      ]
    },
    {
      "cell_type": "code",
      "source": [
        "class Student:\n",
        "\n",
        "    def __init__(self, student1, student2, colour_st1, colour_st2):\n",
        "        self.student1 = student1\n",
        "        self.student2 = student2\n",
        "        self.colour_st1 = colour_st1\n",
        "        self.colour_st2 = colour_st2\n",
        "    \n",
        "    def result(self):\n",
        "        print(f\"Student {self.student1} is {self.colour_st1} and student {self.student2} is {self.colour_st2}\")"
      ],
      "metadata": {
        "id": "BV6OBekLDd--"
      },
      "execution_count": 22,
      "outputs": []
    }
  ]
}