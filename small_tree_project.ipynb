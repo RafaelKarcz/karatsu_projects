{
  "nbformat": 4,
  "nbformat_minor": 0,
  "metadata": {
    "colab": {
      "provenance": [],
      "authorship_tag": "ABX9TyNzluqISZype4/CUoEgOpHb",
      "include_colab_link": true
    },
    "kernelspec": {
      "name": "python3",
      "display_name": "Python 3"
    },
    "language_info": {
      "name": "python"
    }
  },
  "cells": [
    {
      "cell_type": "markdown",
      "metadata": {
        "id": "view-in-github",
        "colab_type": "text"
      },
      "source": [
        "<a href=\"https://colab.research.google.com/github/RafaelKarcz/karatsu_projects/blob/main/small_tree_project.ipynb\" target=\"_parent\"><img src=\"https://colab.research.google.com/assets/colab-badge.svg\" alt=\"Open In Colab\"/></a>"
      ]
    },
    {
      "cell_type": "code",
      "execution_count": 1,
      "metadata": {
        "colab": {
          "base_uri": "https://localhost:8080/"
        },
        "id": "YeAGdPw4OiFn",
        "outputId": "69ff3dc2-58b2-4288-a89f-b2d96f4c236b"
      },
      "outputs": [
        {
          "name": "stdout",
          "output_type": "stream",
          "text": [
            "Do you want to play? y\n",
            "Does it have 4 legs? n\n",
            "Were you thinking of a bird ?  n\n",
            "What animal were\\ you thinking of? cat with three legs\n",
            "What is a question to distinguish between bird and cat with three legs ?I don't know.\n",
            "For cat with three legs , what should be the answer?  Cat with three legs\n",
            "Please answer y or n!\n",
            "For cat with three legs , what should be the answer?  n\n",
            "Do you want to play? n\n"
          ]
        }
      ],
      "source": [
        "# The parent class is information, while the children's class are question and answer. \n",
        "\n",
        "class Information:\n",
        "     def info(self):\n",
        "        print(\"This is Information\")\n",
        "\n",
        "class Question(Information):\n",
        "    def __init__(self, text, if_yes, if_no):\n",
        "        self.text, self.if_yes, self.if_no = text, if_yes, if_no\n",
        "\n",
        "    def play(self):\n",
        "        if ask(self.text):\n",
        "            self.if_yes = self.if_yes.play()\n",
        "        else:\n",
        "            self.if_no = self.if_no.play()\n",
        "            return self\n",
        "\n",
        "\n",
        "class Answer(Information):\n",
        "    def __init__(self, text):\n",
        "        self.text = text\n",
        "\n",
        "    def play(self):\n",
        "        if ask(\"Were you thinking of a {} ? \".format(self.text)):\n",
        "            print(\"I knew it!\")\n",
        "            return self\n",
        "        # here we got it right, # so we simply return the\n",
        "        # Answer node as it is.\n",
        "        else:\n",
        "            newanimal = input(\"What animal were\\ \"\n",
        "                              \"you thinking of? \")\n",
        "            newquestion = input(\"What is a question \"\n",
        "                                \"to distinguish between {} and {} ?\"\n",
        "                                .format(self.text, newanimal))\n",
        "            # but in case we didn't know the animal\n",
        "            # we need to modify the node adding # the appropriate question and# what to do\n",
        "            # ifyes and if no\n",
        "            if ask(\"For {} , what should be the answer? \".format(newanimal)):\n",
        "                return Question(newquestion,\n",
        "                                Answer(newanimal), self)\n",
        "            else:\n",
        "                return Question(newquestion,\n",
        "                                self, Answer(newanimal))\n",
        "\n",
        "\n",
        "def ask(q):\n",
        "    while True:\n",
        "        ans = input(q + \" \")\n",
        "        if ans == \"y\":\n",
        "            return True\n",
        "        elif ans == \"n\":\n",
        "            return False\n",
        "        else:\n",
        "            print(\"Please answer y or n!\")\n",
        "\n",
        "\n",
        "kb = Question(\"Does it have 4 legs?\", Question(\"Does it bark?\",\n",
        "                                                       Answer(\"dog\"), Answer(\"cat\")), Answer(\"bird\"))\n",
        "while True:\n",
        "    if not ask(\"Do you want to play?\"):\n",
        "        break\n",
        "    kb = kb.play()"
      ]
    }
  ]
}